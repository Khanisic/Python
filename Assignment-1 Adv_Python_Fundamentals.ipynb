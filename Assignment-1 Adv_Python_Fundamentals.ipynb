{
 "cells": [
  {
   "cell_type": "code",
   "execution_count": null,
   "metadata": {},
   "outputs": [],
   "source": [
    "#Assignment-1"
   ]
  },
  {
   "cell_type": "code",
   "execution_count": 17,
   "metadata": {},
   "outputs": [],
   "source": [
    "class Restaurant: #Creation Of Class Restaurant\n",
    "    def __init__(self,restaurant_name,cuisine_type):\n",
    "        self.restaurant_name=restaurant_name\n",
    "        self.cuisine_type=cuisine_type\n",
    "    def describe_restaurant(self): #Desribing Restaurant\n",
    "        print(f\"Restaurant Name : {self.restaurant_name} \\n Cuisine Type : {self.cuisine_type}\")\n",
    "    def open_restaurant(self): #Status of Restaurant\n",
    "        print(f\"The Restaurant {self.restaurant_name} is OPEN .\")\n",
    "        \n",
    "        "
   ]
  },
  {
   "cell_type": "code",
   "execution_count": 18,
   "metadata": {},
   "outputs": [],
   "source": [
    "restaurant=Restaurant('Rabea-Al-Arabi','Arabian') #Creating Instance of Restaurant"
   ]
  },
  {
   "cell_type": "code",
   "execution_count": 19,
   "metadata": {},
   "outputs": [
    {
     "name": "stdout",
     "output_type": "stream",
     "text": [
      "Rabea-Al-Arabi\n",
      "Arabian\n"
     ]
    }
   ],
   "source": [
    "print(restaurant.restaurant_name) #Printing 2 attributes separately\n",
    "print(restaurant.cuisine_type)"
   ]
  },
  {
   "cell_type": "code",
   "execution_count": 20,
   "metadata": {},
   "outputs": [
    {
     "name": "stdout",
     "output_type": "stream",
     "text": [
      "Restaurant Name : Rabea-Al-Arabi \n",
      " Cuisine Type : Arabian\n"
     ]
    }
   ],
   "source": [
    "restaurant.describe_restaurant() #Calling Describe_Restaurant method"
   ]
  },
  {
   "cell_type": "code",
   "execution_count": 21,
   "metadata": {},
   "outputs": [
    {
     "name": "stdout",
     "output_type": "stream",
     "text": [
      "The Restaurant Rabea-Al-Arabi is OPEN .\n"
     ]
    }
   ],
   "source": [
    "restaurant.open_restaurant() #Calling Open_Restaurant method"
   ]
  },
  {
   "cell_type": "code",
   "execution_count": null,
   "metadata": {},
   "outputs": [],
   "source": [
    "#Assignment-2"
   ]
  },
  {
   "cell_type": "code",
   "execution_count": 31,
   "metadata": {},
   "outputs": [],
   "source": [
    "class IceCreamStand(Restaurant): #Creation Of Class IceCreamStand and Inheriting methods from its parent class\n",
    "    def Flavours(self,flavours):\n",
    "        self.flavours=['Stawberry','Vanilla','Butter-Scotch','Mango']#Makaing list of flavours and passing it in the attribute \n",
    "        print(f\"The flavours are {self.flavours}\")"
   ]
  },
  {
   "cell_type": "code",
   "execution_count": 32,
   "metadata": {},
   "outputs": [],
   "source": [
    "icecreamstand=IceCreamStand('Cream-Stone','Desserts')#Creating Instance of IceCreamStand"
   ]
  },
  {
   "cell_type": "code",
   "execution_count": 33,
   "metadata": {},
   "outputs": [
    {
     "name": "stdout",
     "output_type": "stream",
     "text": [
      "Restaurant Name : Cream-Stone \n",
      " Cuisine Type : Desserts\n"
     ]
    }
   ],
   "source": [
    "icecreamstand.describe_restaurant()"
   ]
  },
  {
   "cell_type": "code",
   "execution_count": 36,
   "metadata": {},
   "outputs": [
    {
     "name": "stdout",
     "output_type": "stream",
     "text": [
      "The Restaurant Cream-Stone is OPEN .\n"
     ]
    }
   ],
   "source": [
    "icecreamstand.open_restaurant()"
   ]
  },
  {
   "cell_type": "code",
   "execution_count": 35,
   "metadata": {},
   "outputs": [
    {
     "name": "stdout",
     "output_type": "stream",
     "text": [
      "The flavours are ['Stawberry', 'Vanilla', 'Butter-Scotch', 'Mango']\n"
     ]
    }
   ],
   "source": [
    "icecreamstand.Flavours('flavours') #Printing the Types of Flavours"
   ]
  },
  {
   "cell_type": "code",
   "execution_count": null,
   "metadata": {},
   "outputs": [],
   "source": []
  }
 ],
 "metadata": {
  "kernelspec": {
   "display_name": "Python 3",
   "language": "python",
   "name": "python3"
  },
  "language_info": {
   "codemirror_mode": {
    "name": "ipython",
    "version": 3
   },
   "file_extension": ".py",
   "mimetype": "text/x-python",
   "name": "python",
   "nbconvert_exporter": "python",
   "pygments_lexer": "ipython3",
   "version": "3.7.6"
  }
 },
 "nbformat": 4,
 "nbformat_minor": 4
}
