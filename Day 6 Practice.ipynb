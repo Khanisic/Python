{
 "cells": [
  {
   "cell_type": "code",
   "execution_count": 2,
   "metadata": {
    "scrolled": false
   },
   "outputs": [
    {
     "name": "stdout",
     "output_type": "stream",
     "text": [
      "['messi', 'xavi', 'suarez', 'ozil', 'ramsey', 'leno']\n"
     ]
    }
   ],
   "source": [
    "players=[\"messi\",\"xavi\",\"suarez\",\"ozil\",\"ramsey\",\"leno\"]\n",
    "print(players)"
   ]
  },
  {
   "cell_type": "code",
   "execution_count": 4,
   "metadata": {},
   "outputs": [
    {
     "name": "stdout",
     "output_type": "stream",
     "text": [
      "messi\n",
      "xavi\n",
      "suarez\n",
      "ozil\n",
      "ramsey\n",
      "leno\n"
     ]
    }
   ],
   "source": [
    "for x in players:\n",
    "    print(x)"
   ]
  },
  {
   "cell_type": "code",
   "execution_count": 6,
   "metadata": {},
   "outputs": [
    {
     "name": "stdout",
     "output_type": "stream",
     "text": [
      "Well Played This Match messi , Keep Improving \n",
      "Be regular to training and stay fit messi.\n",
      "\n",
      "Well Played This Match xavi , Keep Improving \n",
      "Be regular to training and stay fit xavi.\n",
      "\n",
      "Well Played This Match suarez , Keep Improving \n",
      "Be regular to training and stay fit suarez.\n",
      "\n",
      "Well Played This Match ozil , Keep Improving \n",
      "Be regular to training and stay fit ozil.\n",
      "\n",
      "Well Played This Match ramsey , Keep Improving \n",
      "Be regular to training and stay fit ramsey.\n",
      "\n",
      "Well Played This Match leno , Keep Improving \n",
      "Be regular to training and stay fit leno.\n",
      "\n"
     ]
    }
   ],
   "source": [
    "for z in players:\n",
    "    print(f\"Well Played This Match {z} , Keep Improving \")\n",
    "    print(f\"Be regular to training and stay fit {z}.\\n\")"
   ]
  },
  {
   "cell_type": "code",
   "execution_count": 8,
   "metadata": {},
   "outputs": [
    {
     "name": "stdout",
     "output_type": "stream",
     "text": [
      "1\n",
      "2\n",
      "3\n",
      "4\n",
      "5\n",
      "6\n",
      "7\n",
      "8\n",
      "9\n",
      "10\n",
      "11\n",
      "12\n",
      "13\n",
      "14\n",
      "15\n"
     ]
    }
   ],
   "source": [
    "for number in range(1,16):\n",
    "    print(number)"
   ]
  },
  {
   "cell_type": "code",
   "execution_count": 11,
   "metadata": {},
   "outputs": [
    {
     "name": "stdout",
     "output_type": "stream",
     "text": [
      "[1, 2, 3, 4, 5, 6, 7, 8, 9, 10, 11, 12, 13, 14, 15]\n"
     ]
    }
   ],
   "source": [
    "numbers = list(range(1,16))\n",
    "print(numbers)"
   ]
  },
  {
   "cell_type": "code",
   "execution_count": null,
   "metadata": {},
   "outputs": [],
   "source": [
    "ONLY ODD NUMBERS"
   ]
  },
  {
   "cell_type": "code",
   "execution_count": 12,
   "metadata": {},
   "outputs": [
    {
     "name": "stdout",
     "output_type": "stream",
     "text": [
      "[1, 3, 5, 7, 9, 11, 13, 15, 17, 19, 21, 23]\n"
     ]
    }
   ],
   "source": [
    "odd_num = list(range(1,25,2))\n",
    "print(odd_num)"
   ]
  },
  {
   "cell_type": "code",
   "execution_count": 13,
   "metadata": {},
   "outputs": [
    {
     "name": "stdout",
     "output_type": "stream",
     "text": [
      "[0, 6, 12, 18, 24, 30, 36, 42, 48, 54, 60]\n"
     ]
    }
   ],
   "source": [
    "mul_of_6 = list(range(0,61,6))\n",
    "print(mul_of_6)"
   ]
  },
  {
   "cell_type": "code",
   "execution_count": null,
   "metadata": {},
   "outputs": [],
   "source": []
  }
 ],
 "metadata": {
  "kernelspec": {
   "display_name": "Python 3",
   "language": "python",
   "name": "python3"
  },
  "language_info": {
   "codemirror_mode": {
    "name": "ipython",
    "version": 3
   },
   "file_extension": ".py",
   "mimetype": "text/x-python",
   "name": "python",
   "nbconvert_exporter": "python",
   "pygments_lexer": "ipython3",
   "version": "3.7.6"
  }
 },
 "nbformat": 4,
 "nbformat_minor": 4
}
