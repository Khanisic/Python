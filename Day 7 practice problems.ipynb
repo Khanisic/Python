{
 "cells": [
  {
   "cell_type": "code",
   "execution_count": 1,
   "metadata": {},
   "outputs": [
    {
     "name": "stdout",
     "output_type": "stream",
     "text": [
      "['ozil', 'lacazette', 'leno', 'lucas', 'auba']\n"
     ]
    }
   ],
   "source": [
    "arsenal=[\"ozil\",\"lacazette\",\"leno\",\"lucas\",\"auba\"]\n",
    "print(arsenal)"
   ]
  },
  {
   "cell_type": "code",
   "execution_count": 6,
   "metadata": {},
   "outputs": [
    {
     "name": "stdout",
     "output_type": "stream",
     "text": [
      "OZIL\n",
      "Lacazette\n",
      "Leno\n",
      "Lucas\n",
      "Auba\n"
     ]
    }
   ],
   "source": [
    "for player in arsenal:\n",
    "    if player =='ozil':\n",
    "        print(player.upper())\n",
    "    else:\n",
    "        print(player.title())\n",
    "        "
   ]
  },
  {
   "cell_type": "markdown",
   "metadata": {},
   "source": []
  },
  {
   "cell_type": "code",
   "execution_count": 8,
   "metadata": {},
   "outputs": [
    {
     "name": "stdout",
     "output_type": "stream",
     "text": [
      "Tell me you favourite player , ill  repeat it Ozil\n",
      "Ozil\n"
     ]
    }
   ],
   "source": [
    "message=input(\"Tell me you favourite player , ill  repeat it \")\n",
    "print(message)"
   ]
  },
  {
   "cell_type": "code",
   "execution_count": 9,
   "metadata": {},
   "outputs": [
    {
     "name": "stdout",
     "output_type": "stream",
     "text": [
      "Enter your name :  Abdul Moid Khan Mohammed\n",
      "\n",
      "Hello Abdul Moid Khan Mohammed\n"
     ]
    }
   ],
   "source": [
    "name=input(\"Enter your name :  \")\n",
    "print(f\"\\nHello {name}\")"
   ]
  },
  {
   "cell_type": "code",
   "execution_count": null,
   "metadata": {},
   "outputs": [],
   "source": [
    "Building A Roller Coaster Eligibility Application\n",
    "    "
   ]
  },
  {
   "cell_type": "code",
   "execution_count": 12,
   "metadata": {},
   "outputs": [
    {
     "name": "stdout",
     "output_type": "stream",
     "text": [
      "Enter you height : 165\n",
      "\n",
      "You can take this ride , Have fun\n"
     ]
    }
   ],
   "source": [
    "height=input(\"Enter you height : \")\n",
    "height = int(height)\n",
    "if height >= 120:\n",
    "    print('\\nYou can take this ride , Have fun')\n",
    "else:\n",
    "    print('\\nYou donot meet the minimum height requirement for this ride , Inconveniences regretted')"
   ]
  },
  {
   "cell_type": "code",
   "execution_count": 15,
   "metadata": {},
   "outputs": [
    {
     "name": "stdout",
     "output_type": "stream",
     "text": [
      "Enter you height : 104\n",
      "\n",
      "You donot meet the minimum height requirement for this ride , Inconveniences regretted \n"
     ]
    }
   ],
   "source": [
    "height=input(\"Enter you height : \")\n",
    "height = int(height)\n",
    "if height >= 120:\n",
    "    print('\\nYou can take this ride , Have fun')\n",
    "else:\n",
    "    print('\\nYou donot meet the minimum height requirement for this ride , Inconveniences regretted ')"
   ]
  },
  {
   "cell_type": "code",
   "execution_count": null,
   "metadata": {},
   "outputs": [],
   "source": []
  },
  {
   "cell_type": "code",
   "execution_count": null,
   "metadata": {},
   "outputs": [],
   "source": []
  }
 ],
 "metadata": {
  "kernelspec": {
   "display_name": "Python 3",
   "language": "python",
   "name": "python3"
  },
  "language_info": {
   "codemirror_mode": {
    "name": "ipython",
    "version": 3
   },
   "file_extension": ".py",
   "mimetype": "text/x-python",
   "name": "python",
   "nbconvert_exporter": "python",
   "pygments_lexer": "ipython3",
   "version": "3.7.6"
  }
 },
 "nbformat": 4,
 "nbformat_minor": 4
}
