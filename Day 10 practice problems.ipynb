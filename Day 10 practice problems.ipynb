{
 "cells": [
  {
   "cell_type": "code",
   "execution_count": null,
   "metadata": {},
   "outputs": [],
   "source": []
  },
  {
   "cell_type": "code",
   "execution_count": null,
   "metadata": {},
   "outputs": [],
   "source": []
  },
  {
   "cell_type": "code",
   "execution_count": null,
   "metadata": {},
   "outputs": [],
   "source": [
    "'username':'codetraining01'\n",
    "'password':12345\n",
    "'First_Name':'code'\n",
    "'Last_name':'training'\n",
    "'DOB':'08-05-2000'"
   ]
  },
  {
   "cell_type": "code",
   "execution_count": 5,
   "metadata": {},
   "outputs": [
    {
     "name": "stdout",
     "output_type": "stream",
     "text": [
      "{'username': 'shkan', 'password': '12345', 'First_name': 'shoaib', 'Last_name': 'khan', 'DOB': '08-05-2000'}\n"
     ]
    }
   ],
   "source": [
    "useraccount = {'username':'shkan','password':'12345','First_name':'shoaib','Last_name':'khan','DOB':'08-05-2000'}\n",
    "print(useraccount)"
   ]
  },
  {
   "cell_type": "code",
   "execution_count": 2,
   "metadata": {},
   "outputs": [
    {
     "data": {
      "text/plain": [
       "dict"
      ]
     },
     "execution_count": 2,
     "metadata": {},
     "output_type": "execute_result"
    }
   ],
   "source": [
    "type(useraccount)"
   ]
  },
  {
   "cell_type": "code",
   "execution_count": 6,
   "metadata": {},
   "outputs": [
    {
     "name": "stdout",
     "output_type": "stream",
     "text": [
      "shoaib\n"
     ]
    }
   ],
   "source": [
    "print(useraccount['First_name'])"
   ]
  },
  {
   "cell_type": "code",
   "execution_count": 7,
   "metadata": {},
   "outputs": [
    {
     "name": "stdout",
     "output_type": "stream",
     "text": [
      "08-05-2000\n"
     ]
    }
   ],
   "source": [
    "print(useraccount['DOB'])"
   ]
  },
  {
   "cell_type": "code",
   "execution_count": 8,
   "metadata": {},
   "outputs": [
    {
     "name": "stdout",
     "output_type": "stream",
     "text": [
      "{'username': 'shkan', 'password': 852000, 'First_name': 'shoaib', 'Last_name': 'khan', 'DOB': '08-05-2000'}\n"
     ]
    }
   ],
   "source": [
    "useraccount['password']=852000\n",
    "print(useraccount)"
   ]
  },
  {
   "cell_type": "code",
   "execution_count": 10,
   "metadata": {},
   "outputs": [
    {
     "name": "stdout",
     "output_type": "stream",
     "text": [
      "{'username': 'shkan', 'password': 852000, 'First_name': 'shoaib', 'DOB': '08-05-2000'}\n"
     ]
    }
   ],
   "source": [
    "del useraccount['Last_name']\n",
    "print(useraccount)"
   ]
  },
  {
   "cell_type": "code",
   "execution_count": null,
   "metadata": {},
   "outputs": [],
   "source": []
  }
 ],
 "metadata": {
  "kernelspec": {
   "display_name": "Python 3",
   "language": "python",
   "name": "python3"
  },
  "language_info": {
   "codemirror_mode": {
    "name": "ipython",
    "version": 3
   },
   "file_extension": ".py",
   "mimetype": "text/x-python",
   "name": "python",
   "nbconvert_exporter": "python",
   "pygments_lexer": "ipython3",
   "version": "3.7.6"
  }
 },
 "nbformat": 4,
 "nbformat_minor": 4
}
