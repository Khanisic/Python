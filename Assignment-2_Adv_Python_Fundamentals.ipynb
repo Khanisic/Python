{
 "cells": [
  {
   "cell_type": "code",
   "execution_count": null,
   "metadata": {},
   "outputs": [],
   "source": [
    "T-Shirt: Write a function called make_shirt() that accepts a size and the text of a message that should be printed on the shirt.\n",
    "    The function should print a sentence summarizing the size of the shirt and the message printed on it.\n",
    "\n",
    "Call the function once using positional arguments to make a shirt. Call the function a second time using keyword arguments.\n",
    "\n",
    "Large Shirts: Modify the make_shirt() function so that shirts are large\n",
    "by default with a message that reads I love Python. Make a large shirt and a medium shirt with the default message,\n",
    "and a shirt of any size with a different message.\n",
    "\n",
    "Cities: Write a function called describe_city() that accepts the name of a city and its country.\n",
    "    The function should print a simple sentence, such as Reykjavik is in Iceland.\n",
    "    Give the parameter for the country a default value. \n",
    "    Call your function for three different cities, at least one of which is not in the default country. "
   ]
  },
  {
   "cell_type": "code",
   "execution_count": null,
   "metadata": {},
   "outputs": [],
   "source": [
    "#T-Shirt"
   ]
  },
  {
   "cell_type": "code",
   "execution_count": 13,
   "metadata": {},
   "outputs": [],
   "source": [
    "def make_shirt(size,message):\n",
    "    print(f\"The given Size is {size} and The Given Message is {message}\")"
   ]
  },
  {
   "cell_type": "code",
   "execution_count": 25,
   "metadata": {},
   "outputs": [
    {
     "name": "stdout",
     "output_type": "stream",
     "text": [
      "The given Size is 42 and The Given Message is Football is love\n"
     ]
    }
   ],
   "source": [
    "make=make_shirt(42,'Football is love') #Calling via Positional Argument"
   ]
  },
  {
   "cell_type": "code",
   "execution_count": 15,
   "metadata": {},
   "outputs": [
    {
     "name": "stdout",
     "output_type": "stream",
     "text": [
      "The given Size is 44 and The Given Message is Basketball is Love\n"
     ]
    }
   ],
   "source": [
    "make=make_shirt(size=44,message='Basketball is Love') #Calling via Keyword Argument"
   ]
  },
  {
   "cell_type": "code",
   "execution_count": null,
   "metadata": {},
   "outputs": [],
   "source": []
  },
  {
   "cell_type": "code",
   "execution_count": null,
   "metadata": {},
   "outputs": [],
   "source": [
    "#Large T-Shirt"
   ]
  },
  {
   "cell_type": "code",
   "execution_count": 26,
   "metadata": {},
   "outputs": [],
   "source": [
    "def make_shirt(size='Large',message='I Love Python'):\n",
    "     print(f\"The given Size is {size} and The Given Message is {message}\")"
   ]
  },
  {
   "cell_type": "code",
   "execution_count": 27,
   "metadata": {},
   "outputs": [
    {
     "name": "stdout",
     "output_type": "stream",
     "text": [
      "The given Size is Large and The Given Message is I Love Python\n"
     ]
    }
   ],
   "source": [
    "make_shirt() #Large T-Shirt with default message"
   ]
  },
  {
   "cell_type": "code",
   "execution_count": 28,
   "metadata": {},
   "outputs": [
    {
     "name": "stdout",
     "output_type": "stream",
     "text": [
      "The given Size is Medium and The Given Message is I Love Python\n"
     ]
    }
   ],
   "source": [
    "make_shirt(size='Medium') #Medium T-Shirt with default message"
   ]
  },
  {
   "cell_type": "code",
   "execution_count": 29,
   "metadata": {},
   "outputs": [
    {
     "name": "stdout",
     "output_type": "stream",
     "text": [
      "The given Size is Small and The Given Message is Messi is a Legend\n"
     ]
    }
   ],
   "source": [
    "make_shirt(size='Small',message='Messi is a Legend') #Any size with Different Message"
   ]
  },
  {
   "cell_type": "code",
   "execution_count": null,
   "metadata": {},
   "outputs": [],
   "source": []
  },
  {
   "cell_type": "code",
   "execution_count": null,
   "metadata": {},
   "outputs": [],
   "source": [
    "#Cities"
   ]
  },
  {
   "cell_type": "code",
   "execution_count": 32,
   "metadata": {},
   "outputs": [],
   "source": [
    "def describe_city(name,country='England'):\n",
    "    print(f\"{name} is in {country}\")"
   ]
  },
  {
   "cell_type": "code",
   "execution_count": 34,
   "metadata": {},
   "outputs": [
    {
     "name": "stdout",
     "output_type": "stream",
     "text": [
      "London is in England\n",
      "Liverpool is in England\n",
      "Dammam is in Saudi Arabia\n"
     ]
    }
   ],
   "source": [
    "describe_city('London')\n",
    "describe_city('Liverpool')\n",
    "describe_city('Dammam','Saudi Arabia')\n"
   ]
  },
  {
   "cell_type": "code",
   "execution_count": null,
   "metadata": {},
   "outputs": [],
   "source": []
  },
  {
   "cell_type": "code",
   "execution_count": null,
   "metadata": {},
   "outputs": [],
   "source": []
  }
 ],
 "metadata": {
  "kernelspec": {
   "display_name": "Python 3",
   "language": "python",
   "name": "python3"
  },
  "language_info": {
   "codemirror_mode": {
    "name": "ipython",
    "version": 3
   },
   "file_extension": ".py",
   "mimetype": "text/x-python",
   "name": "python",
   "nbconvert_exporter": "python",
   "pygments_lexer": "ipython3",
   "version": "3.7.6"
  }
 },
 "nbformat": 4,
 "nbformat_minor": 4
}
